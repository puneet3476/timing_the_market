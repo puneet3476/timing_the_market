{
 "cells": [
  {
   "cell_type": "code",
   "id": "initial_id",
   "metadata": {
    "collapsed": true,
    "ExecuteTime": {
     "end_time": "2024-12-21T19:47:13.809936Z",
     "start_time": "2024-12-21T19:47:13.609676Z"
    }
   },
   "source": [
    "from utils import *\n",
    "from strategies import *"
   ],
   "outputs": [],
   "execution_count": 1
  },
  {
   "metadata": {
    "ExecuteTime": {
     "end_time": "2024-12-21T19:47:13.909254Z",
     "start_time": "2024-12-21T19:47:13.895181Z"
    }
   },
   "cell_type": "code",
   "source": [
    "df = pd.read_csv('nifty50.csv')\n",
    "df['date'] = pd.to_datetime(df['date'], format='%d/%m/%Y')"
   ],
   "id": "c8c5894793b6a7c4",
   "outputs": [],
   "execution_count": 2
  },
  {
   "metadata": {
    "jupyter": {
     "is_executing": true
    },
    "ExecuteTime": {
     "start_time": "2024-12-21T19:47:14.168188Z"
    }
   },
   "cell_type": "code",
   "source": [
    "rs = []\n",
    "\n",
    "for i in range(200):\n",
    "    print(i)\n",
    "    start, end = random_timeframe(df, 5)\n",
    "\n",
    "    simple = InvestOnFifth(df, start=start, end=end).irr()\n",
    "    best = InvestOnLowest(df, start=start, end=end).irr()\n",
    "    rsi = RSI(df, start=start, end=end).irr()\n",
    "    rs.append({\"simple\": simple, \"rsi\": rsi, \"best\": best})\n",
    "res = pd.DataFrame(rs)"
   ],
   "id": "c4942149a72bd91e",
   "outputs": [
    {
     "name": "stdout",
     "output_type": "stream",
     "text": [
      "0\n"
     ]
    }
   ],
   "execution_count": null
  },
  {
   "metadata": {
    "ExecuteTime": {
     "end_time": "2024-12-21T19:44:43.000728Z",
     "start_time": "2024-12-21T19:44:42.993081Z"
    }
   },
   "cell_type": "code",
   "source": "res.describe()",
   "id": "8aa36be2218dfea8",
   "outputs": [
    {
     "data": {
      "text/plain": [
       "           simple        best\n",
       "count  200.000000  200.000000\n",
       "mean     0.149355    0.165689\n",
       "std      0.091446    0.092789\n",
       "min     -0.014224    0.009589\n",
       "25%      0.097121    0.112028\n",
       "50%      0.130945    0.144796\n",
       "75%      0.164796    0.179412\n",
       "max      0.453496    0.473169"
      ],
      "text/html": [
       "<div>\n",
       "<style scoped>\n",
       "    .dataframe tbody tr th:only-of-type {\n",
       "        vertical-align: middle;\n",
       "    }\n",
       "\n",
       "    .dataframe tbody tr th {\n",
       "        vertical-align: top;\n",
       "    }\n",
       "\n",
       "    .dataframe thead th {\n",
       "        text-align: right;\n",
       "    }\n",
       "</style>\n",
       "<table border=\"1\" class=\"dataframe\">\n",
       "  <thead>\n",
       "    <tr style=\"text-align: right;\">\n",
       "      <th></th>\n",
       "      <th>simple</th>\n",
       "      <th>best</th>\n",
       "    </tr>\n",
       "  </thead>\n",
       "  <tbody>\n",
       "    <tr>\n",
       "      <th>count</th>\n",
       "      <td>200.000000</td>\n",
       "      <td>200.000000</td>\n",
       "    </tr>\n",
       "    <tr>\n",
       "      <th>mean</th>\n",
       "      <td>0.149355</td>\n",
       "      <td>0.165689</td>\n",
       "    </tr>\n",
       "    <tr>\n",
       "      <th>std</th>\n",
       "      <td>0.091446</td>\n",
       "      <td>0.092789</td>\n",
       "    </tr>\n",
       "    <tr>\n",
       "      <th>min</th>\n",
       "      <td>-0.014224</td>\n",
       "      <td>0.009589</td>\n",
       "    </tr>\n",
       "    <tr>\n",
       "      <th>25%</th>\n",
       "      <td>0.097121</td>\n",
       "      <td>0.112028</td>\n",
       "    </tr>\n",
       "    <tr>\n",
       "      <th>50%</th>\n",
       "      <td>0.130945</td>\n",
       "      <td>0.144796</td>\n",
       "    </tr>\n",
       "    <tr>\n",
       "      <th>75%</th>\n",
       "      <td>0.164796</td>\n",
       "      <td>0.179412</td>\n",
       "    </tr>\n",
       "    <tr>\n",
       "      <th>max</th>\n",
       "      <td>0.453496</td>\n",
       "      <td>0.473169</td>\n",
       "    </tr>\n",
       "  </tbody>\n",
       "</table>\n",
       "</div>"
      ]
     },
     "execution_count": 4,
     "metadata": {},
     "output_type": "execute_result"
    }
   ],
   "execution_count": 4
  },
  {
   "metadata": {
    "ExecuteTime": {
     "end_time": "2024-12-21T19:11:39.051542Z",
     "start_time": "2024-12-21T19:11:39.049758Z"
    }
   },
   "cell_type": "code",
   "source": "",
   "id": "52fbd0006032d18d",
   "outputs": [],
   "execution_count": null
  }
 ],
 "metadata": {
  "kernelspec": {
   "display_name": "Python 3",
   "language": "python",
   "name": "python3"
  },
  "language_info": {
   "codemirror_mode": {
    "name": "ipython",
    "version": 2
   },
   "file_extension": ".py",
   "mimetype": "text/x-python",
   "name": "python",
   "nbconvert_exporter": "python",
   "pygments_lexer": "ipython2",
   "version": "2.7.6"
  }
 },
 "nbformat": 4,
 "nbformat_minor": 5
}
